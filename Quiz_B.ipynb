{
  "nbformat": 4,
  "nbformat_minor": 0,
  "metadata": {
    "colab": {
      "name": "Quiz_B.ipynb",
      "provenance": []
    },
    "kernelspec": {
      "name": "python3",
      "display_name": "Python 3"
    }
  },
  "cells": [
    {
      "cell_type": "markdown",
      "metadata": {
        "id": "jJZKgABpaHAi",
        "colab_type": "text"
      },
      "source": [
        "# Essay\n",
        "\n",
        "---\n",
        "\n"
      ]
    },
    {
      "cell_type": "markdown",
      "metadata": {
        "id": "MWA3xnNKZLJP",
        "colab_type": "text"
      },
      "source": [
        "1. Sebutkan dan jelaskan apa saja yang memiliki faktor terhadap proses machine learning! Jelaskan selengkap mungkin, terutama bagaimana faktor-faktor tersebut mempengaruhi hasil evaluasi model.\n"
      ]
    },
    {
      "cell_type": "markdown",
      "metadata": {
        "id": "LF83ybaVZo31",
        "colab_type": "text"
      },
      "source": [
        "**Jawaban:**\n",
        "Salah satu faktor yang mempengaruhi adalah kelengkapan data kita. Apakah dataset kita memiliki banyak nilai null (NaN). Semakin banyak nilai NaN maka modelling kita tidak akan optimal dan evaluasinya buruk. Pemilihan algoritma yang cocok juga berpengaruh untuk processing dataset kita, karna ada beberapa algoritma yang cocok untuk suatu dataset dan ada yang tidak cocok untuk diaplikasikan. Hyperparameter tuning juga sangat berpengaruh terhadap proses machine learning, karna dengan melakukannya kita bisa mendapatkan akurasi yang kita inginkan (tinggi)."
      ]
    },
    {
      "cell_type": "markdown",
      "metadata": {
        "id": "HDv-rhiOZNVy",
        "colab_type": "text"
      },
      "source": [
        "2. Apakah algoritma yang sederhana pasti menghasilkan hasil evaluasi model yang buruk? Mengapa? Jelaskan!"
      ]
    },
    {
      "cell_type": "markdown",
      "metadata": {
        "id": "Ia--wLdkZ4IX",
        "colab_type": "text"
      },
      "source": [
        "**Jawaban:**\n",
        "Belum tentu. Tidak semua algoritma yang sederhana menghasilkan hasil evaluasi model yang buruk. Semua tergantung ke dataset kita apakah cocok untuk diaplikasikan dengan algoritma yang sederhana tersebut atau tidak. Hyperparameter tuning juga sangat berpengaruh dalam hal ini."
      ]
    },
    {
      "cell_type": "markdown",
      "metadata": {
        "id": "8oddfBoZZUTc",
        "colab_type": "text"
      },
      "source": [
        "3. Apakah perbedaan dari MAE dan R^2? Jelaskan selengkap mungkin!\n"
      ]
    },
    {
      "cell_type": "markdown",
      "metadata": {
        "id": "qg2IlkZKZ8Me",
        "colab_type": "text"
      },
      "source": [
        "**Jawaban:**\n",
        "MAE (Mean Absolute Error) adalah rata-rata dari nilai absolut perbedaan antara hasil prediksi dengan data original, sedangkan R^2 adalah koefisien yang menunjukkan seberapa fit model yang kita prediksi dibandingkan dengan data original kita."
      ]
    },
    {
      "cell_type": "markdown",
      "metadata": {
        "id": "5e63UXaaZW9n",
        "colab_type": "text"
      },
      "source": [
        "4. Apakah suatu metric bisa kita bandingkan dengan metric lainnya walaupun dengan satuan/cara perhitungan yang berbeda? Mengapa? Jelaskan selengkap mungkin! \n",
        "\n",
        "  Gunakan contoh: MAE dan RMSE, apakah mereka dapat dibandingkan secara selaras?"
      ]
    },
    {
      "cell_type": "markdown",
      "metadata": {
        "id": "vmp04q4AZ9rD",
        "colab_type": "text"
      },
      "source": [
        "**Jawaban:**\n",
        "Tidak semua metric bisa kita bandingkan dengan selaras. Untuk MAE dan RMSE jelas berbeda. Pada RMSE, nilai error di kuadratkan sebelum dicari meannya, sedankan MAE dicari nilai absolut dari errornya. Tetapi ada kasus dimana MAE dan RMSE selaras, contohnya dalam suatu dataset yang errornya terdistribusi secara merata. Jika error tidak terdistribusi merata, maka nilai RMSE akan semakin tinggi, sedangkan nilai MAE nya masih konstan."
      ]
    },
    {
      "cell_type": "markdown",
      "metadata": {
        "id": "Ad97SlqdZjQt",
        "colab_type": "text"
      },
      "source": [
        "5. Jelaskan bagaimana suatu problem time series dapat diubah menjadi problem regresi. Berikan suatu contoh dataset beserta contoh data apa saja yang perlu dicatat untuk dapat menjadi suatu problem regresi! Jelaskan selengkap mungkin."
      ]
    },
    {
      "cell_type": "markdown",
      "metadata": {
        "id": "QSPDT0YqZ_AD",
        "colab_type": "text"
      },
      "source": [
        "**Jawaban:**\n",
        "Problem time series dapat diubah menjadi problem regresi apabila dataset time series tersebut tidak memiliki single attribute (univariate). Contoh untuk dataset daily-min-temperatures, kita dapat menambahkan attribute kecepatan angin, kelembapan udara, musim, serta tekanan udara. Artinya, attribute-attribute tersebut ada hubungannya."
      ]
    },
    {
      "cell_type": "markdown",
      "metadata": {
        "id": "XCFXvueCaO5j",
        "colab_type": "text"
      },
      "source": [
        "# Python\n",
        "\n",
        "---\n",
        "\n"
      ]
    },
    {
      "cell_type": "markdown",
      "metadata": {
        "id": "I-pYN_q0aS-N",
        "colab_type": "text"
      },
      "source": [
        "1. Buatlah sederet angka dari 1 hingga 9 menggunakan function range(), dan tentukan berapa banyak bilangan genap dan ganjil dari deret tersebut!\n",
        "  \n",
        "  Output:\n",
        "  \n",
        "    Jumlah angka genap : 5\n",
        "\n",
        "    Jumlah angka ganjil : 4"
      ]
    },
    {
      "cell_type": "code",
      "metadata": {
        "id": "OZ7dUOwZahKE",
        "colab_type": "code",
        "colab": {}
      },
      "source": [
        "numbers = []\n",
        "even_count = 0\n",
        "odd_count = 0\n",
        "\n",
        "for num in range(1, 10):\n",
        "  numbers.append(num)\n",
        "  if num % 2 == 0: \n",
        "    even_count += 1\n",
        "  else: \n",
        "    odd_count += 1\n",
        "\n",
        "print(\"Jumlah angka genap: \", even_count) \n",
        "print(\"Jumlah anka ganjil: \", odd_count) "
      ],
      "execution_count": null,
      "outputs": []
    },
    {
      "cell_type": "markdown",
      "metadata": {
        "id": "QAhJPZwhahjD",
        "colab_type": "text"
      },
      "source": [
        "2. Buatlah sederet angka dari 1 - 10 yang dapat habis dibagi dengan 3 menggunakan loop!\n",
        "\n",
        "  Output:\n",
        "    3, 6, 9"
      ]
    },
    {
      "cell_type": "code",
      "metadata": {
        "id": "Ofq46NxcalS0",
        "colab_type": "code",
        "colab": {}
      },
      "source": [
        "numbers = []\n",
        "for num in range(1,10):  \n",
        "  numbers.append(num)\n",
        "  if num % 3 == 0: \n",
        "    print(num, end = \" \") "
      ],
      "execution_count": null,
      "outputs": []
    },
    {
      "cell_type": "markdown",
      "metadata": {
        "id": "ik82quc2all_",
        "colab_type": "text"
      },
      "source": [
        "3. Buatlah pattern berikut menggunakan function print() dan loop!\n",
        "\n",
        "    Output:\n",
        "\n",
        "    A\n",
        "\n",
        "    A A A \n",
        "    \n",
        "    A A A A \n",
        "    \n",
        "    A A A A A \n",
        "\n"
      ]
    },
    {
      "cell_type": "code",
      "metadata": {
        "id": "yMZNqkBuaoGn",
        "colab_type": "code",
        "colab": {}
      },
      "source": [
        "baris = 4\n",
        "\n",
        "for i in range(0, baris):\n",
        "    for j in range(0, i + 1):\n",
        "        print(\"A\", end=' ')\n",
        "\n",
        "    print(\"\\r\")"
      ],
      "execution_count": null,
      "outputs": []
    },
    {
      "cell_type": "markdown",
      "metadata": {
        "id": "QT_A4jeibD3K",
        "colab_type": "text"
      },
      "source": [
        "4. Buatlah sebuah function yang menerima parameter suatu angka (gunakan angka 2345) lalu melakukan return deret angka yang sama secara terbalik! (5432)"
      ]
    },
    {
      "cell_type": "code",
      "metadata": {
        "id": "RtSjkF9zbH5v",
        "colab_type": "code",
        "colab": {}
      },
      "source": [
        "def inverse(number):\n",
        "  return int(str(number)[::-1])\n",
        "\n",
        "inverse(2345)"
      ],
      "execution_count": null,
      "outputs": []
    },
    {
      "cell_type": "markdown",
      "metadata": {
        "id": "Qk0apQRAbIb1",
        "colab_type": "text"
      },
      "source": [
        "5. Buatlah pattern berikut menggunakan function print() dan loop!\n",
        "\n",
        "  Output:\n",
        "  \n",
        "  1 \n",
        "\n",
        "  1 2 \n",
        "\n",
        "  1 2 3 \n",
        "\n",
        "  1 2 3 4 \n",
        "\n",
        "  1 2 3 4 5"
      ]
    },
    {
      "cell_type": "code",
      "metadata": {
        "id": "HHLDsjCubKUI",
        "colab_type": "code",
        "colab": {}
      },
      "source": [
        "baris = 5\n",
        "for i in range(1, baris+1):\n",
        "    for kolom in range(1, i + 1):\n",
        "        print(kolom, end=' ')\n",
        "    print(\"\")"
      ],
      "execution_count": null,
      "outputs": []
    },
    {
      "cell_type": "markdown",
      "metadata": {
        "id": "xus6OscgbKgc",
        "colab_type": "text"
      },
      "source": [
        "6. Gabungkan dua list berikut menjadi satu list gabungan:\n",
        "\n",
        "    [1, 2, 3, 4, 5]\n",
        "    [6, 7, 8, 9, 10]\n",
        "\n",
        "    Output:\n",
        "\n",
        "    [1, 2, 3, 4, 5, 6, 7, 8, 9, 10]"
      ]
    },
    {
      "cell_type": "code",
      "metadata": {
        "id": "4tL37uLKbOuY",
        "colab_type": "code",
        "colab": {}
      },
      "source": [
        "list1 = [1, 2, 3, 4, 5]\n",
        "list2 = [6, 7, 8, 9, 10]\n",
        "\n",
        "#Join List\n",
        "list3 = list1 + list2\n",
        "print(list3)"
      ],
      "execution_count": null,
      "outputs": []
    },
    {
      "cell_type": "markdown",
      "metadata": {
        "id": "r5m4AA5fbO9f",
        "colab_type": "text"
      },
      "source": [
        "7. Gabungkan list yang sama dengan cara selang seling:\n",
        "\n",
        "  Output:\n",
        "  [1, 6, 2, 7, 3, 8, 4, 9, 5, 10]"
      ]
    },
    {
      "cell_type": "code",
      "metadata": {
        "id": "DRL90574bchc",
        "colab_type": "code",
        "colab": {}
      },
      "source": [
        "list1 = [1, 2, 3, 4, 5]\n",
        "list2 = [6, 7, 8, 9, 10]\n",
        "   \n",
        "list(zip(list1, list2))"
      ],
      "execution_count": null,
      "outputs": []
    },
    {
      "cell_type": "markdown",
      "metadata": {
        "id": "86kdiBGabfvO",
        "colab_type": "text"
      },
      "source": [
        "# Machine Learning\n",
        "\n",
        "---\n",
        "\n"
      ]
    },
    {
      "cell_type": "markdown",
      "metadata": {
        "id": "-I6t2Qombnq8",
        "colab_type": "text"
      },
      "source": [
        "## 1. Classification\n",
        "\n",
        "  Gunakan dataset **horse-colic**, dan hitung accuracy, F1, precision, dan recall dari minimal **3 algoritma**!\n",
        "\n",
        "  Silahkan merujuk ke file **.names** untuk melihat attributenya! Dipersilahkan untuk memproses nama feature menggunakan pandas atau mengubah langsung file .csv nya (ditambahkan header/judul per kolomnya)\n",
        "\n",
        "  **Jelaskan segala hal yang dilakukan** (preprocessing, hyperparameter tuning, dll) dengan sejelas mungkin!\n"
      ]
    },
    {
      "cell_type": "code",
      "metadata": {
        "id": "cX0iUboMcGSu",
        "colab_type": "code",
        "colab": {}
      },
      "source": [
        ""
      ],
      "execution_count": null,
      "outputs": []
    },
    {
      "cell_type": "markdown",
      "metadata": {
        "id": "NdBrwJADcJ8W",
        "colab_type": "text"
      },
      "source": [
        "## 2. Regression\n",
        "\n",
        "Gunakan dataset **abalone**, dan hitung R^2, Mean Absolute Error, serta Root Mean Squared Error dari minimal 3 algoritma!\n",
        "\n",
        "Silahkan merujuk ke file **.names** untuk melihat attributenya! Dipersilahkan untuk memproses nama feature menggunakan pandas atau mengubah langsung file .csv nya (ditambahkan header/judul per kolomnya)\n",
        "\n",
        "**Jelaskan segala hal yang dilakukan** (preprocessing, hyperparameter tuning, dll) dengan sejelas mungkin!"
      ]
    },
    {
      "cell_type": "code",
      "metadata": {
        "id": "sDG2r9FQcdaR",
        "colab_type": "code",
        "colab": {}
      },
      "source": [
        ""
      ],
      "execution_count": null,
      "outputs": []
    }
  ]
}